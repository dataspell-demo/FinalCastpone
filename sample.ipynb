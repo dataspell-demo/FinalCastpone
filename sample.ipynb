{
 "cells": [
  {
   "cell_type": "code",
   "id": "bd07595cc4129f01",
   "metadata": {
    "ExecuteTime": {
     "end_time": "2024-08-03T19:49:42.460760Z",
     "start_time": "2024-08-03T19:49:42.285670Z"
    }
   },
   "source": [
    "# import libraries including required MySQLConnectionPool and Error\n",
    "import mysql.connector as connector\n",
    "from mysql.connector import Error\n",
    "from mysql.connector.pooling import MySQLConnectionPool"
   ],
   "outputs": [],
   "execution_count": 2
  },
  {
   "cell_type": "markdown",
   "id": "f3db2405d5d6326c",
   "metadata": {},
   "source": "# Connection"
  },
  {
   "cell_type": "code",
   "id": "ea35aea46ff8d281",
   "metadata": {
    "ExecuteTime": {
     "end_time": "2024-08-03T19:49:45.771251Z",
     "start_time": "2024-08-03T19:49:45.749048Z"
    }
   },
   "source": [
    "try:\n",
    "    connection = connector.connect(host='localhost',user='root', password='MyP@ssw0rd123!')\n",
    "except Error as err:\n",
    "    print(err.msg)"
   ],
   "outputs": [],
   "execution_count": 3
  },
  {
   "cell_type": "code",
   "id": "7872e39b0cdc5b94",
   "metadata": {
    "ExecuteTime": {
     "end_time": "2024-08-03T19:49:48.526548Z",
     "start_time": "2024-08-03T19:49:48.522930Z"
    }
   },
   "source": [
    "cursor = connection.cursor()\n",
    "print('Connected to MySQL database')"
   ],
   "outputs": [
    {
     "name": "stdout",
     "output_type": "stream",
     "text": [
      "Connected to MySQL database\n"
     ]
    }
   ],
   "execution_count": 4
  },
  {
   "cell_type": "code",
   "id": "7adc0c8286121439",
   "metadata": {
    "ExecuteTime": {
     "end_time": "2024-08-03T19:50:21.508962Z",
     "start_time": "2024-08-03T19:50:21.505279Z"
    }
   },
   "source": [
    "cursor.execute(\"USE CastponeProject\")\n",
    "var = connection.database\n",
    "print(\"The database is set for use.\")"
   ],
   "outputs": [
    {
     "name": "stdout",
     "output_type": "stream",
     "text": [
      "The database is set for use.\n"
     ]
    }
   ],
   "execution_count": 5
  },
  {
   "metadata": {},
   "cell_type": "markdown",
   "source": "# Stored Procedures\n",
   "id": "cf163747d26c4f10"
  },
  {
   "cell_type": "code",
   "id": "f41f8f3209fd7d03",
   "metadata": {
    "ExecuteTime": {
     "end_time": "2024-08-03T19:55:40.348785Z",
     "start_time": "2024-08-03T19:55:40.337558Z"
    }
   },
   "source": [
    "create_Getinfo_proc = \"\"\"\n",
    "CREATE PROCEDURE GetMaxQuantity()\n",
    "BEGIN\n",
    "    SELECT \n",
    "        Max(ProdQuantity) AS MaxQuantity\n",
    "    FROM Orders; \n",
    "END\n",
    "\"\"\"\n",
    "cursor.execute(create_Getinfo_proc)"
   ],
   "outputs": [],
   "execution_count": 9
  },
  {
   "metadata": {
    "ExecuteTime": {
     "end_time": "2024-08-03T20:05:14.209772Z",
     "start_time": "2024-08-03T20:05:14.200659Z"
    }
   },
   "cell_type": "code",
   "source": [
    "create_Getinfo_proc = \"\"\"\n",
    "CREATE PROCEDURE GetInfo()\n",
    "BEGIN\n",
    "    SELECT OrderId, CustomerName, EmpName\n",
    "    FROM Orders\n",
    "    join Customers ON Orders.CustomerID = Customers.CustomerID\n",
    "    join Employees ON Orders.EmployeeID = Employees.EmployeeID; \n",
    "END;\n",
    "\"\"\"\n",
    "cursor.execute(create_Getinfo_proc)"
   ],
   "id": "3fb744223605d6f8",
   "outputs": [],
   "execution_count": 12
  }
 ],
 "metadata": {
  "kernelspec": {
   "display_name": "Python (myenv_311)",
   "language": "python",
   "name": "myenv_311"
  },
  "language_info": {
   "codemirror_mode": {
    "name": "ipython",
    "version": 3
   },
   "file_extension": ".py",
   "mimetype": "text/x-python",
   "name": "python",
   "nbconvert_exporter": "python",
   "pygments_lexer": "ipython3",
   "version": "3.11.5"
  }
 },
 "nbformat": 4,
 "nbformat_minor": 5
}
